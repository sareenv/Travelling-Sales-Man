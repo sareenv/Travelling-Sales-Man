{
 "cells": [
  {
   "cell_type": "markdown",
   "metadata": {},
   "source": [
    "## Introduction"
   ]
  },
  {
   "cell_type": "markdown",
   "metadata": {},
   "source": [
    "Ant colony is a optimisation problem inspired by foraging nature of ants to solve\n",
    "well known computer science combitoral problem Tsp(travelling sales person)\n",
    "problem. Combitoral optimisation problems intend to solve combination and\n",
    "permutation based problems in optimal combinations and permutations (Socha\n",
    "& Dorigo 2008). The TSP purposes a problem which requires optimial path\n",
    "treversed in list of cities visited exactly once. The problem is NP-hard problem,\n",
    "which means that there doesnot exist a optimal polynomial solution for solving\n",
    "the problem (Socha & Dorigo 2008). Heuristic based solution can be applied to\n",
    "solve such problem which doesnot ensure the best optimal path in covered in list\n",
    "of cities but solves the problem with descent solution in limited time constraints\n",
    "(Socha & Dorigo 2008)."
   ]
  },
  {
   "cell_type": "markdown",
   "metadata": {},
   "source": [
    "## ACO Algorithm"
   ]
  },
  {
   "cell_type": "markdown",
   "metadata": {},
   "source": [
    "ACO(Ant colony optimisation) algorithm was first purposed in as ’Ant System’ as a novel heurstic solution to approach combitorial problems (Dorigo & Di Caro 1999). The source of inspiration for ant system algorithm is taken from real ants. The inital path covered by the ant in search of food is in random direction and deposits a chemical known as phermone. The journey returning from destination to source point of journey the ants follows the phermone trails (Socha & Dorigo 2008)."
   ]
  },
  {
   "cell_type": "markdown",
   "metadata": {},
   "source": [
    "<img src = \"./pseudoCode.png\" alt=\"no_img\"/>"
   ]
  },
  {
   "cell_type": "markdown",
   "metadata": {},
   "source": [
    "## Construction Function"
   ]
  },
  {
   "cell_type": "markdown",
   "metadata": {},
   "source": [
    "The Solution construction function requires to build a appropriate solution in graph G = (V, E) where V represents a vertices and E represents the weighted edge between the vertices. The construction of path is based on a probabilistic method mentioned in equation below\n"
   ]
  },
  {
   "cell_type": "markdown",
   "metadata": {},
   "source": [
    "$$ \\begin{align} {p(c_{ij}) = \\frac{\\tau_{ij}^\\alpha . \\eta (c_{ij})^ \\beta}{ \\sum_{c_{ij}}{\\tau_{ij}^\\alpha . \\eta^ \\beta}}} , \\forall  c_{ij} \\in {\\mathbb{N}} \\end{align}$$"
   ]
  },
  {
   "cell_type": "markdown",
   "metadata": {},
   "source": [
    "The ${p(c_{ij})}$ shows the probabilty of choosing the path i and j. ${\\tau_{ij}}$ is the pheramone on the i and j vertices in the graphs. ${\\eta}$ is path visibilty value, which is assigned at each construction a heuristic value to optimal solution edges (Socha & Dorigo 2008). ${\\alpha}$ and ${\\beta}$ are the hyper parameters in the euation controlling the relationship between pheramone information and heuristic information (Socha & Dorigo 2008)."
   ]
  },
  {
   "cell_type": "markdown",
   "metadata": {},
   "source": [
    "## PheromoneUpdate Function"
   ]
  },
  {
   "cell_type": "markdown",
   "metadata": {},
   "source": [
    "The objective of the pheranome update function is to associate more phermone for path which has short edge distance between the vertices which can be achieved by increasing the ${\\Delta{\\tau_{i,j}^k}}$ pheromone level depsoited on ${i^th}$ and ${j^th}$ edge and decreasing the evaporation associate with edge with larger distances (Socha & Dorigo 2008). The equation below shows the mathematical expression for calculating the pheromone deposited by ${k^{th}}$ ant in the graph"
   ]
  },
  {
   "cell_type": "markdown",
   "metadata": {},
   "source": [
    "$$\n",
    "\\begin{align}\n",
    "\\begin{cases}\n",
    "\\frac{1}{L^k}&\\text{L = length travelled by k ant on edge i and j }\\\\\n",
    "0&\\text{otherwise}\\\\\n",
    "\\end{cases}\n",
    "\\end{align}\n",
    "$$"
   ]
  },
  {
   "cell_type": "markdown",
   "metadata": {},
   "source": [
    "## Pheromone without evaporation"
   ]
  },
  {
   "cell_type": "markdown",
   "metadata": {},
   "source": [
    "The equation above shows the euation for pheromone by single ant. Further- more, if there exists m ants then the following equation would be used to cal- culate the pheromone without evaporation."
   ]
  },
  {
   "cell_type": "markdown",
   "metadata": {},
   "source": [
    "$$\\begin{align} \\tau_{i, j} = \\sum_{k=1}^m \\Delta{\\tau_{i, j} ^k} \\end{align}$$"
   ]
  },
  {
   "cell_type": "markdown",
   "metadata": {},
   "source": [
    "the equation will compute the sum of all pheromone deposited by all the ants, where m is total number of artifical ants in the system (Dorigo, Birattari & Stutzle 2006).\n"
   ]
  },
  {
   "cell_type": "markdown",
   "metadata": {},
   "source": [
    "## Pheromone with evaporation"
   ]
  },
  {
   "cell_type": "markdown",
   "metadata": {},
   "source": [
    "$$ \\begin{align} \\tau_{i, j} = (1-\\rho) \\tau_{i,j} + \\sum_{k=1}^m \\Delta{\\tau_{i, j} ^k} \\end{align} $$"
   ]
  },
  {
   "cell_type": "markdown",
   "metadata": {},
   "source": [
    "the equation above introduces new symbol ρ which is a constant that ranges between 0 and 1 and is called evaporation rate. $(1-\\rho)\\tau_{ij}$ substracts evapora- tion constant from 1 and multiply it with the current phermone, which simulates the process of evaporation (Dorigo, Birattari & Stutzle 2006)."
   ]
  },
  {
   "cell_type": "code",
   "execution_count": 25,
   "metadata": {},
   "outputs": [
    {
     "data": {
      "text/plain": [
       "1"
      ]
     },
     "execution_count": 25,
     "metadata": {},
     "output_type": "execute_result"
    }
   ],
   "source": [
    "# Here, goes aco code.\n",
    "acoCode = 1 \n",
    "acoCode"
   ]
  },
  {
   "cell_type": "markdown",
   "metadata": {},
   "source": [
    "## Referances"
   ]
  },
  {
   "cell_type": "markdown",
   "metadata": {},
   "source": [
    "<hr>"
   ]
  },
  {
   "cell_type": "markdown",
   "metadata": {},
   "source": [
    "<ol>\n",
    "    <li> <i> Dorigo, M., Birattari, M. & Stutzle, T. (2006), ‘Ant colony optimization’, IEEE Computational Intelligence Magazine 1(4), 28–39. </i> </li>\n",
    "    <li> <i> Dorigo, M. & Di Caro, G. (1999), Ant colony optimization: a new meta- heuristic, in ‘Proceedings of the 1999 Congress on Evolutionary Computation- CEC99 (Cat. No. 99TH8406)’, Vol. 2, pp. 1470–1477 Vol. 2. </i></li>\n",
    "    <li> <i> Socha, K. & Dorigo, M. (2008), ‘Ant colony optimization for continuous domains’, European Journal of Operational Research 185(3), 1155 – 1173. URL: http://www.sciencedirect.com/science/article/pii/S0377221706006333 </i></li>\n",
    "</ol>"
   ]
  }
 ],
 "metadata": {
  "kernelspec": {
   "display_name": "Python 3",
   "language": "python",
   "name": "python3"
  },
  "language_info": {
   "codemirror_mode": {
    "name": "ipython",
    "version": 3
   },
   "file_extension": ".py",
   "mimetype": "text/x-python",
   "name": "python",
   "nbconvert_exporter": "python",
   "pygments_lexer": "ipython3",
   "version": "3.7.4"
  }
 },
 "nbformat": 4,
 "nbformat_minor": 2
}
