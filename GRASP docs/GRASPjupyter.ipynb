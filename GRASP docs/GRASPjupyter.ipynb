{
  "nbformat": 4,
  "nbformat_minor": 0,
  "metadata": {
    "kernelspec": {
      "display_name": "Python 3",
      "language": "python",
      "name": "python3"
    },
    "language_info": {
      "codemirror_mode": {
        "name": "ipython",
        "version": 3
      },
      "file_extension": ".py",
      "mimetype": "text/x-python",
      "name": "python",
      "nbconvert_exporter": "python",
      "pygments_lexer": "ipython3",
      "version": "3.6.1"
    },
    "colab": {
      "name": "GRASPjupyter.ipynb",
      "provenance": []
    }
  },
  "cells": [
    {
      "cell_type": "markdown",
      "metadata": {
        "id": "EIALuUGBUHhm",
        "colab_type": "text"
      },
      "source": [
        "## Greedy Randomized Adaptive Search Procedure (GRASP)\n"
      ]
    },
    {
      "cell_type": "markdown",
      "metadata": {
        "id": "Y6vDQyNzUHho",
        "colab_type": "text"
      },
      "source": [
        "The GRASP metaheuristic was developed in late 1980’s (Feo and Resende, 1989). Since then it was under continuous development, and GRASP was applied to many problem areas such as Travelling Salesman Problem. GRASP is a general, metaheuristic, high level procedure used to ﬁnd good (ideally optimal) solution to computationally diﬃcult combinatorial optimization problems. (Darby-Dowman and Consoli, 2006) It is an iterative (or multi-start) process, with each iteration consisting of construction phase and local search phase.\n"
      ]
    },
    {
      "cell_type": "markdown",
      "metadata": {
        "id": "vl-xXTCZUHhp",
        "colab_type": "text"
      },
      "source": [
        "![Metaheuristic](metaheuristic.png)"
      ]
    },
    {
      "cell_type": "markdown",
      "metadata": {
        "id": "qFLYhSNyUHhr",
        "colab_type": "text"
      },
      "source": [
        "### Construction Phase\n"
      ]
    },
    {
      "cell_type": "markdown",
      "metadata": {
        "id": "BXAXoPY1UHhs",
        "colab_type": "text"
      },
      "source": [
        "In the construction phase an easy and convenient solution is made by choosing the next element randomly in the Restricted Candidate List (RCL). RCL contains r best elements chosen by a greedy function. It allows to obtain a diﬀerent solution at each iteration.\n"
      ]
    },
    {
      "cell_type": "markdown",
      "metadata": {
        "id": "slTz9kKZUHht",
        "colab_type": "text"
      },
      "source": [
        "![GRC](GRC.png)"
      ]
    },
    {
      "cell_type": "markdown",
      "metadata": {
        "id": "g8MWo8kbUHhv",
        "colab_type": "text"
      },
      "source": [
        "### Local Search Phase"
      ]
    },
    {
      "cell_type": "markdown",
      "metadata": {
        "id": "SUCjEwdEUHhx",
        "colab_type": "text"
      },
      "source": [
        "In the local search phase, the neighbourhood is investigated until a local minimum is found. Eﬀectiveness of local search procedure depends on several aspects, such as the neighbourhood structure (density, regularity), neighbourhood search technique, fast evaluation of the cost function of the neighbours, and the starting solution itself. (Glover and Kochenberger, 2003)\n"
      ]
    },
    {
      "cell_type": "markdown",
      "metadata": {
        "id": "of7Dwb-wUHhy",
        "colab_type": "text"
      },
      "source": [
        "![LS](LS.png)\n"
      ]
    },
    {
      "cell_type": "markdown",
      "metadata": {
        "id": "Nw-Z2KXHUHhz",
        "colab_type": "text"
      },
      "source": [
        "### Solution"
      ]
    },
    {
      "cell_type": "markdown",
      "metadata": {
        "id": "gfj9VcAVUHh1",
        "colab_type": "text"
      },
      "source": [
        "The best overall solution is kept as a result. Solutions provided by the greedy randomized construction are not necessarily optimal, even with respect to simple neighbourhoods. (Glover and Kochenberger, 2003) Local search phase usually improves constructed solution. Local search algorithm works in iterative fashion, by successively replacing current solution by a better one in its neighbourhood.<br>\n",
        "GRASP has two main parameters:  \n",
        "<ul>\n",
        "<li>Parameter for stopping iterations.</li>\n",
        "<li>Parameter related to the quality of the elements in RCL.</li>\n",
        "</ul>\n",
        "The parameter for the maximum number of iterations needs to be present, to avoid never ending loops, and keeping the cost down. Probability of ﬁnding a new better solution then the current best decreases with every iteration, although the quality of the best solution may only improve towards the end. The computation time is pretty much the same for every iteration – computation time is predictable and increases linearly with the number of iterations.\n"
      ]
    },
    {
      "cell_type": "markdown",
      "metadata": {
        "id": "EkRMa1rWUHh2",
        "colab_type": "text"
      },
      "source": [
        "### Time complexity analysis"
      ]
    },
    {
      "cell_type": "markdown",
      "metadata": {
        "id": "rb1jznBMUHh3",
        "colab_type": "text"
      },
      "source": [
        "<ol>\n",
        "<li>Loop $n$ times: $O(n^2)$</li>\n",
        "<li>Construction phase $O(n^2)$</li>\n",
        "<li>Local search phase: $O(n^2)$</li>\n",
        "<li>Update solution: $O(1)$</li>\n",
        "<li>Apply $m$ constraints: $O(m)$</li>\n",
        "<li>Return solution $O(1)$</li>\n",
        "</ol>\n"
      ]
    },
    {
      "cell_type": "markdown",
      "metadata": {
        "id": "Z54rzzULUHh4",
        "colab_type": "text"
      },
      "source": [
        "Time complexity of GRASP algorithm is $O(n^2)m$, where $n$ is the number of iterations and $m$ is the number of constraints."
      ]
    },
    {
      "cell_type": "markdown",
      "metadata": {
        "id": "CGoUFw1SUHh5",
        "colab_type": "text"
      },
      "source": [
        "### References"
      ]
    },
    {
      "cell_type": "markdown",
      "metadata": {
        "id": "m5-psU8yUHh6",
        "colab_type": "text"
      },
      "source": [
        "<ol>\n",
        "<li>Feo, T. and Resende, M., 1989. A probabilistic heuristic for a computationally difficult set covering problem. Operations Research Letters, [online] 8(2), pp.67-71. Available at: https://www.sciencedirect.com/science/article/abs/pii/0167637789900023. </li>\n",
        "<li>Darby-Dowman, K. and Consoli, S., 2006. Combinatorial Optimization And Metaheuristics. [ebook] West London, UK. Available at: http://hdl.handle.net/2438/503.</li>\n",
        "<li>Glover, F.,  and Kochenberger, G., 2003. Handbook Of Metaheuristics. Boston: Kluwer Academic Publishers, pp.219-222.</li>\n",
        "\n",
        "</ol>"
      ]
    }
  ]
}