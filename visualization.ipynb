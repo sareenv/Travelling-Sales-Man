{
  "nbformat": 4,
  "nbformat_minor": 0,
  "metadata": {
    "colab": {
      "name": "380CT.ipynb",
      "provenance": [],
      "collapsed_sections": []
    },
    "kernelspec": {
      "name": "python3",
      "display_name": "Python 3"
    }
  },
  "cells": [
    {
      "cell_type": "markdown",
      "metadata": {
        "id": "-rerHBWhjeqY",
        "colab_type": "text"
      },
      "source": [
        "#Kamal's Code:\n"
      ]
    },
    {
      "cell_type": "code",
      "metadata": {
        "id": "0OpjWZRYU5IS",
        "colab_type": "code",
        "colab": {}
      },
      "source": [
        "from random import randint, choice\n",
        "from pprint import pprint\n",
        "from itertools import permutations\n",
        "from math import inf as oo # Infinity (∞) is larger than any number\n",
        "from math import sqrt\n",
        "from time      import time\n",
        "import matplotlib.pyplot as plt\n",
        "import copy"
      ],
      "execution_count": 0,
      "outputs": []
    },
    {
      "cell_type": "code",
      "metadata": {
        "id": "NM0UtrKvUvll",
        "colab_type": "code",
        "colab": {}
      },
      "source": [
        "MAX_DISTANCE = 100\n",
        "\n",
        "def random_symmetric_graph(n):\n",
        "    ''' Symmetric adjacency matrix of size nxn '''\n",
        "    dist_matrix = [[oo for _ in range(n)] for _ in range(n)]\n",
        "    for i in range(n):\n",
        "        for j in range(i+1,n):\n",
        "            v = randint(1,MAX_DISTANCE)\n",
        "            dist_matrix[i][j] = v\n",
        "            dist_matrix[j][i] = v\n",
        "    return dist_matrix\n",
        "\n",
        "def random_euclidean_graph(n):\n",
        "    ''' Symmetric adjacency matrix of a Euclidean graph of size nxn '''\n",
        "    dist_matrix = [[oo for _ in range(n)] for _ in range(n)]\n",
        "    points = []\n",
        "    for p in range(n):\n",
        "        x,y = randint(0,MAX_DISTANCE), randint(0,MAX_DISTANCE)\n",
        "        points.append((x,y))\n",
        "    for i in range(n):\n",
        "        p1 = points[i]\n",
        "        for j in range(i+1,n):\n",
        "            p2 = points[j]\n",
        "            distance = sqrt((p1[0]-p2[0])**2+(p1[1]-p2[1])**2)\n",
        "            dist_matrix[i][j] = distance\n",
        "            dist_matrix[j][i] = distance\n",
        "    return dist_matrix\n",
        "\n",
        "def show(G):\n",
        "    ''' Show adjacency matrix. Useful for debugging. '''\n",
        "    n = len(G)\n",
        "    r = \"     \"\n",
        "    for i in range(n):\n",
        "        r += f'{i:4}'\n",
        "    r += '\\n    -'+'-'*(4*n)+'\\n'\n",
        "    for i in range(n):\n",
        "        r += f'{i:2} | '\n",
        "        for j in range(n):\n",
        "            r += f'{G[i][j]:4}'\n",
        "        r += '\\n'\n",
        "    r = r.replace('inf', '  ∞')\n",
        "    print(r)\n",
        "\n",
        "def cost(G, cycle):\n",
        "    ''' Calculate the cost of the given cycle '''\n",
        "    c = 0\n",
        "    n = len(G)\n",
        "    for i in range(n):\n",
        "        a = cycle[i]\n",
        "        b = cycle[(i+1)%n]\n",
        "        c += G[a][b]\n",
        "    return c\n",
        "    \n",
        "def greedy_nearest_neighbours(G):\n",
        "    H = copy.deepcopy(G) # We need the original G. We work on/modify H\n",
        "    n = len(H)\n",
        "    cities = list(range(n))\n",
        "    cycle = [] # solution to be built\n",
        "    city = 0 # Start city\n",
        "    while len(cities)>0:\n",
        "        # Find nearest neighbour\n",
        "        city_neighbours = H[city]\n",
        "        smallest_distance = min(city_neighbours)\n",
        "        nearest_city = city_neighbours.index(smallest_distance)\n",
        "        # Update 'cycle' and 'cities' and H then 'city'\n",
        "        cycle.append(city)\n",
        "        cities.remove(city)\n",
        "        for i in range(n): # 'city' is not to be used again!\n",
        "            H[city][i] = oo\n",
        "            H[i][city] = oo\n",
        "        city = nearest_city\n",
        "    return (cycle, cost(G, cycle))\n",
        "\n",
        "def exhaustive_search(G):\n",
        "    n = len(G)    \n",
        "    best_cost = oo # infinity\n",
        "    best_cycle = []\n",
        "    for cycle in permutations(range(1,n)): # permutations of [1,2,...,n-1]\n",
        "        cycle=[0]+list(cycle)              # add the starting city: 0\n",
        "        c = cost(G, cycle)\n",
        "        if c < best_cost:\n",
        "            best_cost = c\n",
        "            best_cycle = cycle\n",
        "    return (best_cycle, best_cost)"
      ],
      "execution_count": 0,
      "outputs": []
    },
    {
      "cell_type": "markdown",
      "metadata": {
        "id": "eQRHctPRj0gd",
        "colab_type": "text"
      },
      "source": [
        "# Best Algorithm TSP, ref: https://github.com/dmishin/tsp-solver"
      ]
    },
    {
      "cell_type": "code",
      "metadata": {
        "id": "vSqEc9Q5TXfc",
        "colab_type": "code",
        "colab": {}
      },
      "source": [
        "from tsp_solver.greedy import solve_tsp\n",
        "import tsp_solver"
      ],
      "execution_count": 0,
      "outputs": []
    },
    {
      "cell_type": "markdown",
      "metadata": {
        "id": "xQ4hqgD7nm_-",
        "colab_type": "text"
      },
      "source": [
        "# Benchmarking (Serge)"
      ]
    },
    {
      "cell_type": "code",
      "metadata": {
        "id": "JReTMK_BnrEi",
        "colab_type": "code",
        "colab": {}
      },
      "source": [
        "def benchmark_solver(suboptimal_algorithm, dataset, times=1):\n",
        "    \"\"\"\n",
        "    params: \n",
        "    suboptimal_algorithm  --> Pointer to algorithm you want to benchmark\n",
        "    times                 --> Amount of times algorithm should run\n",
        "    dataset               --> List of graphs you want benchmarked \"\"\"\n",
        "\n",
        "    allPaths = []\n",
        "    for i in range(times):\n",
        "        for graph in dataset: #looping over graphs\n",
        "            start = time()\n",
        "            pathAlgorithm = suboptimal_algorithm(graph)\n",
        "            suboptimalTime = time() - start\n",
        "\n",
        "            start = time()\n",
        "            bestPath = solve_tsp(graph, endpoints=(0, pathAlgorithm[0][-1]))\n",
        "            correctTime = time() - start\n",
        "                                #so it starts and begins at the same point\n",
        "            allPaths.append((bestPath, pathAlgorithm[0], correctTime, suboptimalTime))\n",
        "\n",
        "    return allPaths\n"
      ],
      "execution_count": 0,
      "outputs": []
    },
    {
      "cell_type": "markdown",
      "metadata": {
        "id": "EtOGrvpvnjdQ",
        "colab_type": "text"
      },
      "source": [
        "# Canvassing \n"
      ]
    },
    {
      "cell_type": "code",
      "metadata": {
        "id": "PxEJosg_QNC6",
        "colab_type": "code",
        "colab": {}
      },
      "source": [
        "graphList = []\n",
        "for i in range(2, 201): # Create 100 graphs of sizes [2,101]\n",
        "    for j in range(25): # do it 25 times each\n",
        "        graphList.append(random_symmetric_graph(i))"
      ],
      "execution_count": 0,
      "outputs": []
    },
    {
      "cell_type": "markdown",
      "metadata": {
        "id": "IlFMVTSDuZCF",
        "colab_type": "text"
      },
      "source": [
        "# Exhaustive Processing"
      ]
    },
    {
      "cell_type": "code",
      "metadata": {
        "id": "DS4aPEZIunyF",
        "colab_type": "code",
        "colab": {}
      },
      "source": [
        "exhaustiveSolutions = []\n",
        "t0 = t1 = 0\n",
        "\n",
        "for graph in graphList:\n",
        "    t0 = time()\n",
        "    solution = exhaustive_search(graph)\n",
        "    t1 = time()\n",
        "    exhaustiveSolutions.append((solution[0], t1-t0))\n",
        "    if t1-t0 > 3:\n",
        "        break"
      ],
      "execution_count": 0,
      "outputs": []
    },
    {
      "cell_type": "code",
      "metadata": {
        "id": "cXrFiiOcv6S_",
        "colab_type": "code",
        "colab": {}
      },
      "source": [
        "def get_separate_exhaustive(graphList, exhaustiveSolutions):\n",
        "\n",
        "    allCosts = []\n",
        "    allTimes = []\n",
        "    averageCounter = 0\n",
        "    totalCosts = 0\n",
        "    totalTimes = 0 \n",
        "    currentSize = 2\n",
        "\n",
        "    for solution, graph in zip(exhaustiveSolutions, graphList):\n",
        "        if len(solution[0]) == currentSize: #so we average the same size graphs\n",
        "            totalCosts += cost(graph, solution[0])\n",
        "            totalTimes += solution[1]\n",
        "            averageCounter += 1\n",
        "        else:\n",
        "            allCosts.append(round(totalCosts / averageCounter))\n",
        "            allTimes.append(round(totalTimes / averageCounter, 3))\n",
        "            totalCosts = 0\n",
        "            totalTimes = 0 \n",
        "            averageCounter = 0\n",
        "            currentSize = len(solution[0]) #advance onto the next size\n",
        "\n",
        "    return allCosts, allTimes"
      ],
      "execution_count": 0,
      "outputs": []
    },
    {
      "cell_type": "code",
      "metadata": {
        "id": "lYIhkYyJw06T",
        "colab_type": "code",
        "colab": {}
      },
      "source": [
        "exhaustiveCosts, exhaustiveTimes = get_separate_exhaustive(graphList, exhaustiveSolutions)\n"
      ],
      "execution_count": 0,
      "outputs": []
    },
    {
      "cell_type": "markdown",
      "metadata": {
        "id": "tNdZDPgiucCM",
        "colab_type": "text"
      },
      "source": [
        "# TSP Solver and GreedyNN"
      ]
    },
    {
      "cell_type": "code",
      "metadata": {
        "id": "67lscFPRUyk3",
        "colab_type": "code",
        "colab": {}
      },
      "source": [
        "allSolutions = benchmark_solver(greedy_nearest_neighbours, graphList)"
      ],
      "execution_count": 0,
      "outputs": []
    },
    {
      "cell_type": "code",
      "metadata": {
        "id": "w5HpX6ONQR1q",
        "colab_type": "code",
        "colab": {}
      },
      "source": [
        "def get_percentage_delta(graphList, allSolutions):\n",
        "    \"\"\" allSolutions = [(solution0, solution1), ...]\n",
        "        solution0 being always the correct one\"\"\"\n",
        "\n",
        "    correctCostTotal = 0\n",
        "    suboptimalCostTotal = 0 \n",
        "    percentageDelta = []\n",
        "    currentSize = 2 #always start at length 2\n",
        "\n",
        "    for solution, graph in zip(allSolutions, graphList):\n",
        "        if len(solution[0]) == currentSize: #so we average the same size graphs\n",
        "            correctCostTotal += cost(graph, solution[0])\n",
        "            suboptimalCostTotal += cost(graph, solution[1])\n",
        "        else:\n",
        "            percentageDelta.append(correctCostTotal / suboptimalCostTotal * 100)\n",
        "            correctCostTotal = 0\n",
        "            suboptimalCostTotal = 0 \n",
        "            currentSize = len(solution[0]) #advance onto the next size\n",
        "\n",
        "    return percentageDelta\n",
        "\n",
        "percentageDelta = get_percentage_delta(graphList, allSolutions)"
      ],
      "execution_count": 0,
      "outputs": []
    },
    {
      "cell_type": "code",
      "metadata": {
        "id": "m-oDMFpBnAvC",
        "colab_type": "code",
        "colab": {}
      },
      "source": [
        "def get_separate_costs(graphList, allSolutions):\n",
        "    \"\"\" allSolutions = [(solution0, solution1), ...]\n",
        "        solution0 being always the correct one\"\"\"\n",
        "\n",
        "    suboptimalCosts = []\n",
        "    correctCosts = []\n",
        "\n",
        "    correctCostTotal = 0\n",
        "    suboptimalCostTotal = 0 \n",
        "    averageCounter = 0\n",
        "    currentSize = 2 #always start at length 2\n",
        "    for solution, graph in zip(allSolutions, graphList):\n",
        "        if len(solution[0]) == currentSize: #so we average the same size graphs\n",
        "            correctCostTotal += cost(graph, solution[0])\n",
        "            suboptimalCostTotal += cost(graph, solution[1])\n",
        "            averageCounter += 1\n",
        "        else:\n",
        "            suboptimalCosts.append(suboptimalCostTotal / averageCounter)\n",
        "            correctCosts.append(correctCostTotal / averageCounter)\n",
        "            suboptimalCostTotal = 0 \n",
        "            correctCostTotal = 0\n",
        "            averageCounter = 0\n",
        "            currentSize = len(solution[0]) #advance onto the next size\n",
        "\n",
        "    return (suboptimalCosts, correctCosts)"
      ],
      "execution_count": 0,
      "outputs": []
    },
    {
      "cell_type": "code",
      "metadata": {
        "id": "WPfhnrCVq7Ok",
        "colab_type": "code",
        "colab": {}
      },
      "source": [
        "def get_separate_times(graphList, allSolutions):\n",
        "    \"\"\" allSolutions = [(solution0, solution1), ...]\n",
        "        solution0 being always the correct one\"\"\"\n",
        "\n",
        "    suboptimalTime = []\n",
        "    correctTime = []\n",
        "\n",
        "    correctTimeTotal = 0\n",
        "    suboptimalTimeTotal = 0 \n",
        "    averageCounter = 0\n",
        "    currentSize = 2 #always start at length 2\n",
        "    for solution, graph in zip(allSolutions, graphList):\n",
        "        if len(solution[0]) == currentSize: #so we average the same size graphs\n",
        "            correctTimeTotal += solution[2]\n",
        "            suboptimalTimeTotal += solution[3]\n",
        "            averageCounter += 1\n",
        "        else:\n",
        "            suboptimalTime.append(suboptimalTimeTotal / averageCounter)\n",
        "            correctTime.append(correctTimeTotal / averageCounter)\n",
        "            suboptimalTimeTotal = 0 \n",
        "            correctTimeTotal = 0\n",
        "            averageCounter = 0\n",
        "            currentSize = len(solution[0]) #advance onto the next size\n",
        "\n",
        "    return (suboptimalTime, correctTime)"
      ],
      "execution_count": 0,
      "outputs": []
    },
    {
      "cell_type": "markdown",
      "metadata": {
        "id": "iBWxOB6AoMKU",
        "colab_type": "text"
      },
      "source": [
        "\n",
        "## Percentage Drop-Off GreedyNN vs TSP-Solver\n"
      ]
    },
    {
      "cell_type": "code",
      "metadata": {
        "id": "_KRaed_aQVoT",
        "colab_type": "code",
        "outputId": "e7708f2f-738a-4990-b2da-c359a1a70fa6",
        "colab": {
          "base_uri": "https://localhost:8080/",
          "height": 278
        }
      },
      "source": [
        "plt.plot(range(2, 200) , percentageDelta, 'r', label=\"GreedyNN\")\n",
        "plt.xlabel(\"Number of Cities\")\n",
        "plt.ylabel(\"Quality of Solution\")\n",
        "plt.legend()\n",
        "plt.show()"
      ],
      "execution_count": 138,
      "outputs": [
        {
          "output_type": "display_data",
          "data": {
            "image/png": "[encoded data removed]",
            "text/plain": [
              "<Figure size 432x288 with 1 Axes>"
            ]
          },
          "metadata": {
            "tags": []
          }
        }
      ]
    },
    {
      "cell_type": "markdown",
      "metadata": {
        "id": "b5dvxGDdoYwT",
        "colab_type": "text"
      },
      "source": [
        "## Averaged Costs Of All Approaches"
      ]
    },
    {
      "cell_type": "code",
      "metadata": {
        "id": "rJz5GHSamfRs",
        "colab_type": "code",
        "colab": {
          "base_uri": "https://localhost:8080/",
          "height": 278
        },
        "outputId": "96c8ce29-8499-4672-b201-bdb3f484ed36"
      },
      "source": [
        "suboptimalCosts, correctCosts = get_separate_costs(graphList, allSolutions)\n",
        "\n",
        "plt.plot(range(2, 200) , suboptimalCosts, 'r', label=\"GreedyNN\")\n",
        "plt.plot(range(2, 200) , correctCosts, 'g', label=\"TSP-Solver\")\n",
        "plt.plot(range(2, 11) , exhaustiveCosts, 'b', label=\"Exhaustive\")\n",
        "plt.xlabel(\"Number of Cities\")\n",
        "plt.ylabel(\"Average Cost\")\n",
        "plt.legend()\n",
        "plt.show()"
      ],
      "execution_count": 174,
      "outputs": [
        {
          "output_type": "display_data",
          "data": {
            "image/png": "[encoded data removed]",
            "text/plain": [
              "<Figure size 432x288 with 1 Axes>"
            ]
          },
          "metadata": {
            "tags": []
          }
        }
      ]
    },
    {
      "cell_type": "markdown",
      "metadata": {
        "id": "cBlscmFpqI6t",
        "colab_type": "text"
      },
      "source": [
        "## Time: GreedyNN vs Exhaustive"
      ]
    },
    {
      "cell_type": "code",
      "metadata": {
        "id": "uuBLYDMLqM0Z",
        "colab_type": "code",
        "colab": {
          "base_uri": "https://localhost:8080/",
          "height": 278
        },
        "outputId": "5cae80ca-64eb-4e8d-8252-e0f57731bee4"
      },
      "source": [
        "suboptimalTimes, correctTimes = get_separate_times(graphList, allSolutions)\n",
        "\n",
        "plt.plot(range(2, 200) , suboptimalTimes, 'r', label=\"GreedyNN\")\n",
        "plt.plot(range(2, 11) , exhaustiveTimes, 'b', label=\"Exhaustive\")\n",
        "plt.xlabel(\"Number of Cities\")\n",
        "plt.ylabel(\"Time in Seconds\")\n",
        "plt.legend()\n",
        "plt.show()"
      ],
      "execution_count": 176,
      "outputs": [
        {
          "output_type": "display_data",
          "data": {
            "image/png": "[encoded data removed]",
            "text/plain": [
              "<Figure size 432x288 with 1 Axes>"
            ]
          },
          "metadata": {
            "tags": []
          }
        }
      ]
    },
    {
      "cell_type": "markdown",
      "metadata": {
        "id": "nD_7wAoE49Ll",
        "colab_type": "text"
      },
      "source": [
        "## Time: GreedyNN vs TSP-Solver"
      ]
    },
    {
      "cell_type": "code",
      "metadata": {
        "id": "CT8yrDDw4-5q",
        "colab_type": "code",
        "colab": {
          "base_uri": "https://localhost:8080/",
          "height": 278
        },
        "outputId": "181129ca-3f27-49e6-8794-f55956848ffa"
      },
      "source": [
        "plt.plot(range(2, 200) , suboptimalTimes, 'r', label=\"GreedyNN\")\n",
        "plt.plot(range(2, 200) , correctTimes, 'g', label=\"TSP-Solver\")\n",
        "plt.xlabel(\"Number of Cities\")\n",
        "plt.ylabel(\"Time in Seconds\")\n",
        "plt.legend()\n",
        "plt.show()"
      ],
      "execution_count": 168,
      "outputs": [
        {
          "output_type": "display_data",
          "data": {
            "image/png": "[encoded data removed]",
            "text/plain": [
              "<Figure size 432x288 with 1 Axes>"
            ]
          },
          "metadata": {
            "tags": []
          }
        }
      ]
    },
    {
      "cell_type": "code",
      "metadata": {
        "id": "-UUYAzhs5Ftr",
        "colab_type": "code",
        "colab": {}
      },
      "source": [
        ""
      ],
      "execution_count": 0,
      "outputs": []
    }
  ]
}