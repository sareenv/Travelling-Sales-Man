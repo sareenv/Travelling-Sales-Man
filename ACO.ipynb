{
  "nbformat": 4,
  "nbformat_minor": 0,
  "metadata": {
    "colab": {
      "name": "ACO.ipynb",
      "provenance": [],
      "collapsed_sections": []
    },
    "kernelspec": {
      "name": "python3",
      "display_name": "Python 3"
    }
  },
  "cells": [
    {
      "cell_type": "code",
      "metadata": {
        "id": "PWTA3RNPzODs",
        "colab_type": "code",
        "outputId": "a4bb6913-1215-46d7-c39e-488b3bc2b738",
        "colab": {
          "base_uri": "https://localhost:8080/",
          "height": 51
        }
      },
      "source": [
        "!pip3 install networkx"
      ],
      "execution_count": 1,
      "outputs": [
        {
          "output_type": "stream",
          "text": [
            "Requirement already satisfied: networkx in /usr/local/lib/python3.6/dist-packages (2.4)\n",
            "Requirement already satisfied: decorator>=4.3.0 in /usr/local/lib/python3.6/dist-packages (from networkx) (4.4.1)\n"
          ],
          "name": "stdout"
        }
      ]
    },
    {
      "cell_type": "code",
      "metadata": {
        "id": "DYRPsslEzfmj",
        "colab_type": "code",
        "colab": {}
      },
      "source": [
        "import networkx as nx"
      ],
      "execution_count": 0,
      "outputs": []
    },
    {
      "cell_type": "code",
      "metadata": {
        "id": "4VYkFqnhzVgO",
        "colab_type": "code",
        "outputId": "06b9833c-9783-4bb1-f3f2-871b1d2ee4d7",
        "colab": {
          "base_uri": "https://localhost:8080/",
          "height": 34
        }
      },
      "source": [
        "G = nx.Graph()\n",
        "G.add_node(1)\n",
        "G.add_node(2)\n",
        "G.add_node(3)\n",
        "G.add_node(4)\n",
        "G.add_node(5)\n",
        "\n",
        "n = G.number_of_nodes()\n",
        "print(\"The number of nodes are {}\".format(n))"
      ],
      "execution_count": 2,
      "outputs": [
        {
          "output_type": "stream",
          "text": [
            "The number of nodes are 5\n"
          ],
          "name": "stdout"
        }
      ]
    },
    {
      "cell_type": "code",
      "metadata": {
        "id": "5z0iqIOy0Llf",
        "colab_type": "code",
        "colab": {}
      },
      "source": [
        "G.add_edge(1, 2, weight=4)\n",
        "G.add_edge(1, 3, weight=49)\n",
        "G.add_edge(1, 4, weight=45)\n",
        "G.add_edge(1, 5, weight=12)\n",
        "G.add_edge(3, 1, weight=16)\n",
        "G.add_edge(4, 2, weight=2)\n",
        "G.add_edge(4, 1, weight=62)"
      ],
      "execution_count": 0,
      "outputs": []
    },
    {
      "cell_type": "code",
      "metadata": {
        "id": "FxLLtUKi0zOe",
        "colab_type": "code",
        "outputId": "3258f9e6-3953-43e5-866d-4e60fdac2785",
        "colab": {
          "base_uri": "https://localhost:8080/",
          "height": 367
        }
      },
      "source": [
        "nx.draw_networkx(G, arrows= True, with_labels= True)"
      ],
      "execution_count": 4,
      "outputs": [
        {
          "output_type": "stream",
          "text": [
            "/usr/local/lib/python3.6/dist-packages/networkx/drawing/nx_pylab.py:563: MatplotlibDeprecationWarning: \n",
            "The iterable function was deprecated in Matplotlib 3.1 and will be removed in 3.3. Use np.iterable instead.\n",
            "  if not cb.iterable(width):\n",
            "/usr/local/lib/python3.6/dist-packages/networkx/drawing/nx_pylab.py:611: MatplotlibDeprecationWarning: \n",
            "The is_numlike function was deprecated in Matplotlib 3.0 and will be removed in 3.2. Use isinstance(..., numbers.Number) instead.\n",
            "  if cb.is_numlike(alpha):\n"
          ],
          "name": "stderr"
        },
        {
          "output_type": "display_data",
          "data": {
            "image/png": "[encoded data removed]",
            "text/plain": [
              "<Figure size 432x288 with 1 Axes>"
            ]
          },
          "metadata": {
            "tags": []
          }
        }
      ]
    },
    {
      "cell_type": "code",
      "metadata": {
        "id": "lwNX2yp42rzP",
        "colab_type": "code",
        "colab": {}
      },
      "source": [
        "import numpy as np"
      ],
      "execution_count": 0,
      "outputs": []
    },
    {
      "cell_type": "code",
      "metadata": {
        "id": "7Mumg8N51bk-",
        "colab_type": "code",
        "colab": {}
      },
      "source": [
        "dict_res = nx.adjacency_matrix(G)\n",
        "dict_res_np = np.array(dict_res.toarray())"
      ],
      "execution_count": 0,
      "outputs": []
    },
    {
      "cell_type": "code",
      "metadata": {
        "id": "wdSTMJnM2coC",
        "colab_type": "code",
        "outputId": "575910e8-0a86-46f3-b65b-a93c23eff8d7",
        "colab": {
          "base_uri": "https://localhost:8080/",
          "height": 119
        }
      },
      "source": [
        "print(\"The type of numpy array is {}\".format(type(dict_res_np)))\n",
        "print(\"The value of numpy array is {}\".format(dict_res_np))"
      ],
      "execution_count": 8,
      "outputs": [
        {
          "output_type": "stream",
          "text": [
            "The type of numpy array is <class 'numpy.ndarray'>\n",
            "The value of numpy array is [[ 0  4 16 62 12]\n",
            " [ 4  0  0  2  0]\n",
            " [16  0  0  0  0]\n",
            " [62  2  0  0  0]\n",
            " [12  0  0  0  0]]\n"
          ],
          "name": "stdout"
        }
      ]
    },
    {
      "cell_type": "code",
      "metadata": {
        "id": "UIYdN_CkM8AQ",
        "colab_type": "code",
        "colab": {
          "base_uri": "https://localhost:8080/",
          "height": 102
        },
        "outputId": "9599b283-f348-4c48-c7de-370bdcf60514"
      },
      "source": [
        "pheranome_matrix = np.zeros((len(dict_res_np), len(dict_res_np)))\n",
        "pheranome_matrix"
      ],
      "execution_count": 9,
      "outputs": [
        {
          "output_type": "execute_result",
          "data": {
            "text/plain": [
              "array([[0., 0., 0., 0., 0.],\n",
              "       [0., 0., 0., 0., 0.],\n",
              "       [0., 0., 0., 0., 0.],\n",
              "       [0., 0., 0., 0., 0.],\n",
              "       [0., 0., 0., 0., 0.]])"
            ]
          },
          "metadata": {
            "tags": []
          },
          "execution_count": 9
        }
      ]
    },
    {
      "cell_type": "code",
      "metadata": {
        "id": "7fICj-iFazNP",
        "colab_type": "code",
        "colab": {
          "base_uri": "https://localhost:8080/",
          "height": 34
        },
        "outputId": "1161b8c5-c474-4f72-f42d-fcae92f40321"
      },
      "source": [
        "node_cities = list(G.nodes)\n",
        "node_cities"
      ],
      "execution_count": 10,
      "outputs": [
        {
          "output_type": "execute_result",
          "data": {
            "text/plain": [
              "[1, 2, 3, 4, 5]"
            ]
          },
          "metadata": {
            "tags": []
          },
          "execution_count": 10
        }
      ]
    },
    {
      "cell_type": "code",
      "metadata": {
        "id": "YxNxmyENbriJ",
        "colab_type": "code",
        "colab": {}
      },
      "source": [
        "from itertools import permutations"
      ],
      "execution_count": 0,
      "outputs": []
    },
    {
      "cell_type": "markdown",
      "metadata": {
        "id": "ftuZAMVobcxe",
        "colab_type": "text"
      },
      "source": [
        "Generate different paths for given list of cities."
      ]
    },
    {
      "cell_type": "code",
      "metadata": {
        "id": "oLpQ2aGEPGME",
        "colab_type": "code",
        "colab": {}
      },
      "source": [
        "def generatePaths(cities):\n",
        "  return permutations(cities)"
      ],
      "execution_count": 0,
      "outputs": []
    },
    {
      "cell_type": "code",
      "metadata": {
        "id": "_DxUvrb9da4_",
        "colab_type": "code",
        "colab": {}
      },
      "source": [
        "paths = []"
      ],
      "execution_count": 0,
      "outputs": []
    },
    {
      "cell_type": "code",
      "metadata": {
        "id": "AY7_2BjJccco",
        "colab_type": "code",
        "colab": {}
      },
      "source": [
        "g_paths = generatePaths(node_cities)\n",
        "[paths.append(list(path)) for path in g_paths]\n",
        "paths = np.array(paths)\n"
      ],
      "execution_count": 0,
      "outputs": []
    },
    {
      "cell_type": "code",
      "metadata": {
        "id": "RW3i05wZeByE",
        "colab_type": "code",
        "colab": {
          "base_uri": "https://localhost:8080/",
          "height": 153
        },
        "outputId": "3427b5f4-a859-498c-ed69-250fd782ca84"
      },
      "source": [
        "print(\"The generated paths are {}\".format(paths))\n",
        "print(\"The dimensions of generated paths are {}\".format(paths.shape))"
      ],
      "execution_count": 25,
      "outputs": [
        {
          "output_type": "stream",
          "text": [
            "The generated paths are [[1 2 3 4 5]\n",
            " [1 2 3 5 4]\n",
            " [1 2 4 3 5]\n",
            " ...\n",
            " [5 4 2 3 1]\n",
            " [5 4 3 1 2]\n",
            " [5 4 3 2 1]]\n",
            "The dimensions of generated paths are (360, 5)\n"
          ],
          "name": "stdout"
        }
      ]
    },
    {
      "cell_type": "markdown",
      "metadata": {
        "id": "x6xK0l9ZNpWw",
        "colab_type": "text"
      },
      "source": [
        "**ACO Algorithm**\n",
        "\n",
        "\n",
        "\n",
        "1.   Number of cities \n",
        "2.   Number of ants.\n",
        "3.   Number of iterations = constant = 10\n",
        "4.   alpha, beta = 1\n"
      ]
    },
    {
      "cell_type": "code",
      "metadata": {
        "id": "CJOBdKSWgx8r",
        "colab_type": "code",
        "colab": {}
      },
      "source": [
        "'''\n",
        " Virtual Ant Class. \n",
        "  1. Total Cost covered by an ant.\n",
        "  2. Visited Nodes.\n",
        "  3. Unvisited Nodes.\n",
        "  4. currentLocation.\n",
        "\n",
        " functions\n",
        "  1. update pheramone \n",
        "  2. get_probabilty.\n",
        "  3. update location.\n",
        "'''\n",
        "\n",
        "class Virtual_Ant(object):\n",
        "  \n",
        "  def __init__(self, currentLocation):\n",
        "    self.currentLocation = currentLocation # X, y location of the ant at perticular \n",
        "    self.visitedNodes = []\n",
        "    self.unvisitedNode = []\n",
        "    self.totalCost = 0\n",
        "\n",
        "  def changeAntLocation():\n",
        "    pass"
      ],
      "execution_count": 0,
      "outputs": []
    },
    {
      "cell_type": "code",
      "metadata": {
        "id": "Lpr6GaHDf7qG",
        "colab_type": "code",
        "colab": {}
      },
      "source": [
        "number_of_cities = len(dict_res_np)\n",
        "number_of_ant = 200\n",
        "number_of_generations = 20\n",
        "alpha = 1 # relative importance of pheramone. (need to change def)\n",
        "beta = 1 # relative importance of heuristic information (need to change def)"
      ],
      "execution_count": 0,
      "outputs": []
    }
  ]
}